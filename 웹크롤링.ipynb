{
 "cells": [
  {
   "cell_type": "markdown",
   "metadata": {},
   "source": [
    "## 필요한 라이브러리 Import"
   ]
  },
  {
   "cell_type": "code",
   "execution_count": null,
   "metadata": {},
   "outputs": [],
   "source": [
    "import requests\n",
    "import pandas as pd\n",
    "from bs4 import BeautifulSoup\n",
    "import re\n",
    "\n"
   ]
  },
  {
   "cell_type": "markdown",
   "metadata": {},
   "source": [
    "## 네이버증권 Financial Summary 크롤링"
   ]
  },
  {
   "cell_type": "markdown",
   "metadata": {},
   "source": [
    "기본적으로 네이버증권은 URL에 종목코드륿 변수로 받아 종목코드별(기업별) 페이지를 구성하고 있다.<br><br>\n",
    "Chrome 개발자 도구에 들어가 Network를 켜보면 \"cF1001.aspx?cmp=cd\"부분을 보면 매출액, 영업이익 등이 html 언어로 표현되어 있는 것을 알 수 있다. <br><br>\n",
    "URL을 살펴보면 cmp_cd는 종목코드, freq_typ은 연간(A), 분기(Q), encparam과 id는 종목별로 랜덤하게 부여되는 key값 정도로 파악된다. <br><br>\n",
    "encparam과 id는 랜덤 값으로 파악되기 때문에 이 정보를 알고 접근할 수는 없다. 그래서 2개의 값을 html에서 찾아서 접근하는 방법을 사용하기로 했다."
   ]
  },
  {
   "cell_type": "markdown",
   "metadata": {},
   "source": [
    "## encparam과 id 값 찾기"
   ]
  },
  {
   "cell_type": "code",
   "execution_count": null,
   "metadata": {},
   "outputs": [
    {
     "name": "stdout",
     "output_type": "stream",
     "text": []
    }
   ],
   "source": [
    "def get_basic_key_values(code):\n",
    "    # 종목별 encparam, encid 찾기\n",
    "    url = f'https://navercomp.wisereport.co.kr/v2/company/c1010001.aspx?cmp_cd={code}'\n",
    "    html = requests.get(url).text\n",
    "    \n",
    "    re_enc = re.compile(\"encparam: '(.*)'\", re.IGNORECASE)\n",
    "    re_id = re.compile(\"id: '([a-zA-Z0-9]*)' ?\", re.IGNORECASE)\n",
    "    \n",
    "    encparam = re_enc.search(html).group(1)\n",
    "    encid = re_id.search(html).group(1)\n",
    "    \n",
    "    return encparam, encid\n",
    "\n",
    "get_basic_key_values('005930') # 삼성전자"
   ]
  },
  {
   "cell_type": "markdown",
   "metadata": {},
   "source": [
    "## get_basic_key_values 함수를 사용해서 Financial Summary 값을 데이터 프레임으로 불러오기"
   ]
  },
  {
   "cell_type": "code",
   "execution_count": 17,
   "metadata": {},
   "outputs": [
    {
     "name": "stdout",
     "output_type": "stream",
     "text": []
    },
    {
     "name": "stdout",
     "output_type": "stream",
     "text": []
    }
   ],
   "source": [
    "def get_dataframe(code):\n",
    "    \n",
    "    encparam, encid = get_basic_key_values(code)\n",
    "\n",
    "    url = f'http://companyinfo.stock.naver.com/v1/company/ajax/cF1001.aspx?cmp_cd={code}&fin_type=0&freq_type=A&encparam={encparam}&id={encid}'\n",
    "    headers = {'Referer': 'HACK'}\n",
    "    html = requests.get(url, headers=headers).text\n",
    "    dfs = pd.read_html(html)\n",
    "    df = dfs[1]\n",
    "\n",
    "    return df\n",
    "\n",
    "get_dataframe('005930') # 삼성전자"
   ]
  }
 ],
 "metadata": {
  "kernelspec": {
   "display_name": "base",
   "language": "python",
   "name": "python3"
  },
  "language_info": {
   "codemirror_mode": {
    "name": "ipython",
    "version": 3
   },
   "file_extension": ".py",
   "mimetype": "text/x-python",
   "name": "python",
   "nbconvert_exporter": "python",
   "pygments_lexer": "ipython3",
   "version": "3.12.7"
  }
 },
 "nbformat": 4,
 "nbformat_minor": 2
}
