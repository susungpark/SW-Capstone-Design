{
 "cells": [
  {
   "cell_type": "markdown",
   "metadata": {},
   "source": [
    "# 코스피200 시가총액 크롤링"
   ]
  },
  {
   "cell_type": "markdown",
   "metadata": {},
   "source": [
    "### 필요한 라이브러리"
   ]
  },
  {
   "cell_type": "code",
   "execution_count": 9,
   "metadata": {},
   "outputs": [],
   "source": [
    "import requests\n",
    "from bs4 import BeautifulSoup\n",
    "import requests\n",
    "from bs4 import BeautifulSoup\n",
    "import pandas as pd\n",
    "import time\n",
    "from collections import defaultdict\n",
    "import csv\n",
    "import re\n",
    "from scipy import stats"
   ]
  },
  {
   "cell_type": "markdown",
   "metadata": {},
   "source": [
    "### 코스피 200 편입 종목들의 시가총액 크롤링"
   ]
  },
  {
   "cell_type": "code",
   "execution_count": 2,
   "metadata": {},
   "outputs": [
    {
     "name": "stderr",
     "output_type": "stream",
     "text": [
      "<>:13: SyntaxWarning: invalid escape sequence '\\d'\n",
      "<>:13: SyntaxWarning: invalid escape sequence '\\d'\n",
      "/var/folders/vw/vspwd_yn6b94yd37dg899j380000gn/T/ipykernel_98635/155905241.py:13: SyntaxWarning: invalid escape sequence '\\d'\n",
      "  k = re.search('[\\d]+', txt)  # 정규표현식 사용. [\\d] 숫자표현, + : 반복\n"
     ]
    },
    {
     "name": "stdout",
     "output_type": "stream",
     "text": [
      "['005930', '000660', '207940', '373220', '005380', '012450', '329180', '105560', '000270', '068270', '035420', '055550', '042660', '012330', '011200', '034020', '028260', '009540', '138040', '005490', '086790', '259960', '015760', '000810', '010130', '032830', '035720', '033780', '051910', '402340', '316140', '096770', '267260', '030200', '010140', '064350', '024110', '066570', '352820', '006400', '017670', '323410', '003550', '018260', '034730', '009150', '272210', '079550', '003230', '042700', '047810', '003670', '000100', '086280', '047050', '003490', '180640', '006800', '010120', '090430', '326030', '021240', '010620', '005830', '000150', '009830', '267250', '010950', '032640', '298040', '071050', '005940', '161390', '000720', '051900', '271560', '029780', '006260', '016360', '251270', '241560', '034220', '278470', '377300', '000880', '028050', '128940', '011790', '035250', '001040', '039490', '078930', '011070', '036570', '175330', '097950', '022100', '036460', '138930', '004020', '454910', '450080', '302440', '489790', '011780', '017800', '004370', '383220', '012750', '026960', '011170', '008930', '004990', '052690', '192820', '111770', '018880', '139480', '002380', '088350', '001440', '081660', '066970', '030000', '023530', '112610', '001450', '161890', '028670', '051600', '000120', '002790', '375500', '139130', '008770', '282330', '204320', '042670', '069620', '006360', '103140', '004170', '007310', '361610', '000240', '047040', '069960', '005850', '009970', '010060', '006280', '014680', '073240', '009420', '000080', '137310', '003090', '001800', '457190', '300720', '336260', '007070', '011210', '185750', '192080', '005070', '298020', '001120', '280360', '009240', '004490', '003240', '005300', '004000', '003030', '285130', '298050', '001740', '014820', '002840', '000210', '120110', '114090', '001680', '039130', '008730', '145720', '003620', '001430', '069260', '005250', '005420', '006650', '178920', '456040', '271940', '002710', '093370', '105630', '006110']\n"
     ]
    }
   ],
   "source": [
    "BaseUrl = 'http://finance.naver.com/sise/entryJongmok.nhn?&page='\n",
    "\n",
    "# 종목 코드 추출\n",
    "stock_codes = []\n",
    "\n",
    "for i in range(1, 21):  # range() 함수의 끝 파라미터는 포함되지 않는다.\n",
    "    url = BaseUrl + str(i)\n",
    "    r = requests.get(url)\n",
    "    soup = BeautifulSoup(r.text, 'lxml')\n",
    "    items = soup.find_all('td', {'class': 'ctg'})\n",
    "    for item in items:\n",
    "        txt = item.a.get('href')  # 예: https://finance.naver.com/item/main.nhn?code=006390\n",
    "        k = re.search('[\\d]+', txt)  # 정규표현식 사용. [\\d] 숫자표현, + : 반복\n",
    "        if k:\n",
    "            code = k.group()\n",
    "            stock_codes.append(code)\n",
    "\n",
    "print(stock_codes)"
   ]
  },
  {
   "cell_type": "code",
   "execution_count": 3,
   "metadata": {},
   "outputs": [
    {
     "name": "stdout",
     "output_type": "stream",
     "text": [
      "\n",
      "크롤링한 시가총액 데이터:\n",
      "     종목코드        종목명   시가총액(억원)\n",
      "0  005930       삼성전자  3362354.0\n",
      "1  000660     SK하이닉스  1488765.0\n",
      "2  207940   삼성바이오로직스   713163.0\n",
      "3  373220   LG에너지솔루션   679770.0\n",
      "4  005380        현대차   405849.0\n",
      "5  012450  한화에어로스페이스   397761.0\n",
      "6  329180    HD현대중공업   372403.0\n",
      "7  105560       KB금융   368343.0\n",
      "8  000270         기아   365859.0\n",
      "9  068270       셀트리온   343404.0\n"
     ]
    }
   ],
   "source": [
    "# 네이버 금융 URL 기본\n",
    "base_url = 'https://finance.naver.com/item/main.naver?code='\n",
    "\n",
    "# 시가총액을 저장할 리스트와 종목명 리스트\n",
    "market_caps = []\n",
    "stock_names = []\n",
    "\n",
    "# User-Agent 헤더 추가\n",
    "headers = {'User-Agent': 'Mozilla/5.0'}\n",
    "\n",
    "# 각 종목코드에 대한 시가총액 크롤링\n",
    "for code in stock_codes:\n",
    "    try:\n",
    "        url = base_url + code\n",
    "        response = requests.get(url, headers=headers)\n",
    "        soup = BeautifulSoup(response.text, 'html.parser')\n",
    "        \n",
    "        # 종목명 가져오기\n",
    "        name_tag = soup.select_one('div.wrap_company h2 a')\n",
    "        if name_tag:\n",
    "            stock_name = name_tag.text.strip()\n",
    "            stock_names.append(stock_name)\n",
    "        else:\n",
    "            stock_names.append(f\"Unknown-{code}\")\n",
    "        \n",
    "        # 시가총액 태그 찾기\n",
    "        market_cap_tag = soup.find('em', {'id': '_market_sum'})\n",
    "        if market_cap_tag:\n",
    "            market_cap_text = market_cap_tag.get_text(strip=True)\n",
    "            \n",
    "            # '조' 단위와 숫자 분리 처리\n",
    "            if '조' in market_cap_text:\n",
    "                trillion_part = market_cap_text.split('조')[0]\n",
    "                billion_part = market_cap_text.split('조')[1].strip()\n",
    "                \n",
    "                # 억 단위 처리 (공백이나 쉼표 제거)\n",
    "                billion_part = billion_part.replace(',', '').strip()\n",
    "                \n",
    "                # 조 단위 계산 (1조 = 10000억)\n",
    "                market_cap_value = float(trillion_part) * 10000\n",
    "                \n",
    "                # 억 단위가 있으면 더하기\n",
    "                if billion_part:\n",
    "                    market_cap_value += float(billion_part)\n",
    "            else:\n",
    "                # '조' 단위가 없는 경우 (억 단위만 있는 경우)\n",
    "                market_cap_value = float(market_cap_text.replace(',', ''))\n",
    "            \n",
    "            market_caps.append(market_cap_value)\n",
    "        else:\n",
    "            market_caps.append(0)  # 시가총액을 찾지 못한 경우\n",
    "            \n",
    "        # 너무 빠른 요청으로 차단되지 않게 약간의 지연 추가\n",
    "        time.sleep(0.5)\n",
    "        \n",
    "    except Exception as e:\n",
    "        print(f\"Error processing code {code}: {e}\")\n",
    "        market_caps.append(0)  # 오류 발생 시 0으로 기록\n",
    "        if len(stock_names) < len(market_caps):\n",
    "            stock_names.append(f\"Error-{code}\")\n",
    "\n",
    "# 결과를 데이터프레임으로 만들기\n",
    "result_df = pd.DataFrame({\n",
    "    '종목코드': stock_codes[:len(market_caps)],  # 길이 맞추기\n",
    "    '종목명': stock_names,\n",
    "    '시가총액(억원)': market_caps\n",
    "})\n",
    "\n",
    "# 결과 확인\n",
    "print(\"\\n크롤링한 시가총액 데이터:\")\n",
    "print(result_df.head(10))  # 상위 10개 종목만 출력\n"
   ]
  },
  {
   "cell_type": "code",
   "execution_count": 4,
   "metadata": {},
   "outputs": [
    {
     "data": {
      "text/html": [
       "<div>\n",
       "<style scoped>\n",
       "    .dataframe tbody tr th:only-of-type {\n",
       "        vertical-align: middle;\n",
       "    }\n",
       "\n",
       "    .dataframe tbody tr th {\n",
       "        vertical-align: top;\n",
       "    }\n",
       "\n",
       "    .dataframe thead th {\n",
       "        text-align: right;\n",
       "    }\n",
       "</style>\n",
       "<table border=\"1\" class=\"dataframe\">\n",
       "  <thead>\n",
       "    <tr style=\"text-align: right;\">\n",
       "      <th></th>\n",
       "      <th>종목코드</th>\n",
       "      <th>종목명</th>\n",
       "      <th>시가총액(억원)</th>\n",
       "    </tr>\n",
       "  </thead>\n",
       "  <tbody>\n",
       "    <tr>\n",
       "      <th>0</th>\n",
       "      <td>005930</td>\n",
       "      <td>삼성전자</td>\n",
       "      <td>3362354.0</td>\n",
       "    </tr>\n",
       "    <tr>\n",
       "      <th>1</th>\n",
       "      <td>000660</td>\n",
       "      <td>SK하이닉스</td>\n",
       "      <td>1488765.0</td>\n",
       "    </tr>\n",
       "    <tr>\n",
       "      <th>2</th>\n",
       "      <td>207940</td>\n",
       "      <td>삼성바이오로직스</td>\n",
       "      <td>713163.0</td>\n",
       "    </tr>\n",
       "    <tr>\n",
       "      <th>3</th>\n",
       "      <td>373220</td>\n",
       "      <td>LG에너지솔루션</td>\n",
       "      <td>679770.0</td>\n",
       "    </tr>\n",
       "    <tr>\n",
       "      <th>4</th>\n",
       "      <td>005380</td>\n",
       "      <td>현대차</td>\n",
       "      <td>405849.0</td>\n",
       "    </tr>\n",
       "    <tr>\n",
       "      <th>...</th>\n",
       "      <td>...</td>\n",
       "      <td>...</td>\n",
       "      <td>...</td>\n",
       "    </tr>\n",
       "    <tr>\n",
       "      <th>195</th>\n",
       "      <td>271940</td>\n",
       "      <td>일진하이솔루스</td>\n",
       "      <td>5004.0</td>\n",
       "    </tr>\n",
       "    <tr>\n",
       "      <th>196</th>\n",
       "      <td>002710</td>\n",
       "      <td>TCC스틸</td>\n",
       "      <td>4850.0</td>\n",
       "    </tr>\n",
       "    <tr>\n",
       "      <th>197</th>\n",
       "      <td>093370</td>\n",
       "      <td>후성</td>\n",
       "      <td>4430.0</td>\n",
       "    </tr>\n",
       "    <tr>\n",
       "      <th>198</th>\n",
       "      <td>105630</td>\n",
       "      <td>한세실업</td>\n",
       "      <td>4252.0</td>\n",
       "    </tr>\n",
       "    <tr>\n",
       "      <th>199</th>\n",
       "      <td>006110</td>\n",
       "      <td>삼아알미늄</td>\n",
       "      <td>3104.0</td>\n",
       "    </tr>\n",
       "  </tbody>\n",
       "</table>\n",
       "<p>200 rows × 3 columns</p>\n",
       "</div>"
      ],
      "text/plain": [
       "       종목코드       종목명   시가총액(억원)\n",
       "0    005930      삼성전자  3362354.0\n",
       "1    000660    SK하이닉스  1488765.0\n",
       "2    207940  삼성바이오로직스   713163.0\n",
       "3    373220  LG에너지솔루션   679770.0\n",
       "4    005380       현대차   405849.0\n",
       "..      ...       ...        ...\n",
       "195  271940   일진하이솔루스     5004.0\n",
       "196  002710     TCC스틸     4850.0\n",
       "197  093370        후성     4430.0\n",
       "198  105630      한세실업     4252.0\n",
       "199  006110     삼아알미늄     3104.0\n",
       "\n",
       "[200 rows x 3 columns]"
      ]
     },
     "execution_count": 4,
     "metadata": {},
     "output_type": "execute_result"
    }
   ],
   "source": [
    "result_df"
   ]
  },
  {
   "cell_type": "markdown",
   "metadata": {},
   "source": [
    "### 시가 총액 기준으로 Z-score 3이상인 기업 찾기"
   ]
  },
  {
   "cell_type": "code",
   "execution_count": 10,
   "metadata": {},
   "outputs": [
    {
     "name": "stdout",
     "output_type": "stream",
     "text": [
      "\n",
      "Z-score가 3 이상인 종목들:\n",
      "종목코드: 005930, 종목명: 삼성전자, 시가총액: 3362354.00억원, Z-score: 12.01\n",
      "종목코드: 000660, 종목명: SK하이닉스, 시가총액: 1488765.00억원, Z-score: 5.12\n",
      "\n",
      "총 2개 종목이 Z-score 3 이상의 시가총액을 가지고 있습니다.\n"
     ]
    }
   ],
   "source": [
    "# Z-score 계산\n",
    "result_df['Z-score'] = stats.zscore(result_df['시가총액(억원)'])\n",
    "\n",
    "# Z-score가 3 이상인 종목 필터링\n",
    "outliers = result_df[result_df['Z-score'] >= 3]\n",
    "\n",
    "# Z-score가 3 이상인 종목들의 리스트 생성\n",
    "outlier_stocks = list(zip(outliers['종목코드'], outliers['종목명'], outliers['시가총액(억원)'], outliers['Z-score']))\n",
    "\n",
    "print(\"\\nZ-score가 3 이상인 종목들:\")\n",
    "for code, name, cap, zscore in outlier_stocks:\n",
    "    print(f\"종목코드: {code}, 종목명: {name}, 시가총액: {cap:.2f}억원, Z-score: {zscore:.2f}\")\n",
    "\n",
    "print(f\"\\n총 {len(outlier_stocks)}개 종목이 Z-score 3 이상의 시가총액을 가지고 있습니다.\")"
   ]
  }
 ],
 "metadata": {
  "kernelspec": {
   "display_name": ".venv",
   "language": "python",
   "name": "python3"
  },
  "language_info": {
   "codemirror_mode": {
    "name": "ipython",
    "version": 3
   },
   "file_extension": ".py",
   "mimetype": "text/x-python",
   "name": "python",
   "nbconvert_exporter": "python",
   "pygments_lexer": "ipython3",
   "version": "3.13.3"
  }
 },
 "nbformat": 4,
 "nbformat_minor": 2
}
